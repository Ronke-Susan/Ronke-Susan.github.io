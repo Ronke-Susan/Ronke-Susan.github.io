{
 "cells": [
  {
   "cell_type": "code",
   "execution_count": 1,
   "id": "608d932b",
   "metadata": {},
   "outputs": [],
   "source": [
    "#import libraries\n",
    "import requests\n",
    "from bs4 import BeautifulSoup\n",
    "import time"
   ]
  },
  {
   "cell_type": "code",
   "execution_count": 2,
   "id": "5829c7de",
   "metadata": {},
   "outputs": [],
   "source": [
    "baseurl = 'https://www.dogbreedslist.info/'\n",
    "headers = {\n",
    "    \"User-Agent\": \"Mozilla/5.0 (Windows NT 10.0; Win64; x64) AppleWebKit/537.36 (KHTML, like Gecko) Chrome/78.0.3904.108 Safari/537.36\", \"Accept-Encoding\":\"gzip, deflate\", \"Accept\":\"text/html,application/xhtml+xml,application/xml;q=0.9,*/*;q=0.8\", \"DNT\":\"1\",\"Connection\":\"close\", \"Upgrade-Insecure-Requests\":\"1\"\n",
    "}"
   ]
  },
  {
   "cell_type": "code",
   "execution_count": 4,
   "id": "61ce55ff",
   "metadata": {},
   "outputs": [
    {
     "ename": "KeyboardInterrupt",
     "evalue": "",
     "output_type": "error",
     "traceback": [
      "\u001b[1;31m---------------------------------------------------------------------------\u001b[0m",
      "\u001b[1;31mKeyboardInterrupt\u001b[0m                         Traceback (most recent call last)",
      "\u001b[1;32m~\\AppData\\Local\\Temp/ipykernel_1892/3414675323.py\u001b[0m in \u001b[0;36m<module>\u001b[1;34m\u001b[0m\n\u001b[0;32m      9\u001b[0m         \u001b[1;32mfor\u001b[0m \u001b[0mlinks\u001b[0m \u001b[1;32min\u001b[0m \u001b[0mitem\u001b[0m\u001b[1;33m.\u001b[0m\u001b[0mfind_all\u001b[0m\u001b[1;33m(\u001b[0m\u001b[1;34m'a'\u001b[0m\u001b[1;33m,\u001b[0m \u001b[0mhref\u001b[0m\u001b[1;33m=\u001b[0m\u001b[1;32mTrue\u001b[0m\u001b[1;33m)\u001b[0m\u001b[1;33m:\u001b[0m\u001b[1;33m\u001b[0m\u001b[1;33m\u001b[0m\u001b[0m\n\u001b[0;32m     10\u001b[0m             \u001b[0mdoglinks\u001b[0m\u001b[1;33m.\u001b[0m\u001b[0mappend\u001b[0m\u001b[1;33m(\u001b[0m\u001b[0mbaseurl\u001b[0m \u001b[1;33m+\u001b[0m \u001b[0mlinks\u001b[0m\u001b[1;33m[\u001b[0m\u001b[1;34m'href'\u001b[0m\u001b[1;33m]\u001b[0m\u001b[1;33m)\u001b[0m\u001b[1;33m\u001b[0m\u001b[1;33m\u001b[0m\u001b[0m\n\u001b[1;32m---> 11\u001b[1;33m         \u001b[0mtime\u001b[0m\u001b[1;33m.\u001b[0m\u001b[0msleep\u001b[0m\u001b[1;33m(\u001b[0m\u001b[1;36m7\u001b[0m\u001b[1;33m)\u001b[0m\u001b[1;33m\u001b[0m\u001b[1;33m\u001b[0m\u001b[0m\n\u001b[0m\u001b[0;32m     12\u001b[0m \u001b[0mprint\u001b[0m\u001b[1;33m(\u001b[0m\u001b[0mlen\u001b[0m\u001b[1;33m(\u001b[0m\u001b[0mdoglinks\u001b[0m\u001b[1;33m)\u001b[0m\u001b[1;33m)\u001b[0m\u001b[1;33m\u001b[0m\u001b[1;33m\u001b[0m\u001b[0m\n",
      "\u001b[1;31mKeyboardInterrupt\u001b[0m: "
     ]
    }
   ],
   "source": [
    "doglinks = []\n",
    "for x in range(1,20):\n",
    "    pages = requests.get(f'https://www.dogbreedslist.info/all-dog-breeds/page-{x}.html', headers=headers)\n",
    "    soup = BeautifulSoup(pages.content, \"html.parser\")\n",
    "    soup = BeautifulSoup(soup.prettify(), \"html.parser\")\n",
    "    dog_list=soup.find_all('div',class_='right')\n",
    "    time.sleep(3)\n",
    "    for item in dog_list:\n",
    "        for links in item.find_all('a', href=True):\n",
    "            doglinks.append(baseurl + links['href'])\n",
    "        time.sleep(3)\n",
    "print(len(doglinks))"
   ]
  },
  {
   "cell_type": "code",
   "execution_count": 6,
   "id": "322275a9",
   "metadata": {},
   "outputs": [
    {
     "name": "stdout",
     "output_type": "stream",
     "text": [
      "706\n"
     ]
    }
   ],
   "source": [
    "dog_links = []\n",
    "for x in range(1,20):\n",
    "    pages = requests.get('https://www.dogbreedslist.info/all-dog-breeds/page-{}.html'.format(x), headers=headers)\n",
    "    soup = BeautifulSoup(pages.content, \"html.parser\")\n",
    "    soup = BeautifulSoup(soup.prettify(), \"html.parser\")\n",
    "    dog_list=soup.find_all('div',class_='right')\n",
    "    for item in dog_list:\n",
    "        for links in item.find_all('a', href=True):\n",
    "            dog_links.append(baseurl + links['href'])\n",
    "        \n",
    "print(len(dog_links))"
   ]
  },
  {
   "cell_type": "code",
   "execution_count": 13,
   "id": "68dbca9d",
   "metadata": {},
   "outputs": [],
   "source": [
    "a_set= set(dog_links)\n",
    "len(a_set)#number of unique values"
   ]
  },
  {
   "cell_type": "code",
   "execution_count": 16,
   "id": "6ba3eeaa",
   "metadata": {},
   "outputs": [],
   "source": [
    "testlink='https://www.dogbreedslist.info/all-dog-breeds/labrador-retriever.html'\n",
    "r= requests.get(testlink,headers=headers)\n",
    "sp= BeautifulSoup(r.content, \"html.parser\")\n"
   ]
  },
  {
   "cell_type": "code",
   "execution_count": null,
   "id": "bef0c907",
   "metadata": {},
   "outputs": [],
   "source": [
    "#all dog information are listed in a table\n",
    "table = sp.find('table', class_ = \"table-01\")"
   ]
  },
  {
   "cell_type": "code",
   "execution_count": 80,
   "id": "382066c2",
   "metadata": {},
   "outputs": [
    {
     "data": {
      "text/plain": [
       "'Labrador Retriever'"
      ]
     },
     "execution_count": 80,
     "metadata": {},
     "output_type": "execute_result"
    }
   ],
   "source": [
    "dog_name= table.find('strong').text.strip()\n",
    "dog_name"
   ]
  },
  {
   "cell_type": "code",
   "execution_count": 305,
   "id": "f854741a",
   "metadata": {},
   "outputs": [],
   "source": [
    "#popularity= table.find('td', class_='rank').get_text()\n",
    "#year_pop= popularity[:9]\n",
    "#year_pop\n",
    "#len(popularity)\n",
    "#for i in popularity:\n",
    "    #i.str.strip()\n",
    "#print(i)"
   ]
  },
  {
   "cell_type": "code",
   "execution_count": 275,
   "id": "89beda61",
   "metadata": {},
   "outputs": [
    {
     "data": {
      "text/plain": [
       "'Canada\\n United States'"
      ]
     },
     "execution_count": 275,
     "metadata": {},
     "output_type": "execute_result"
    }
   ],
   "source": [
    "origin=table.find('td', class_= 'flag').text.strip()\n",
    "origin"
   ]
  },
  {
   "cell_type": "code",
   "execution_count": 337,
   "id": "c5384de1",
   "metadata": {},
   "outputs": [
    {
     "name": "stdout",
     "output_type": "stream",
     "text": [
      "[]\n"
     ]
    }
   ],
   "source": [
    "breedgroup= table.find('a',href=True).text\n",
    "print(breedgroup)"
   ]
  },
  {
   "cell_type": "code",
   "execution_count": 344,
   "id": "da8adc4d",
   "metadata": {},
   "outputs": [
    {
     "name": "stdout",
     "output_type": "stream",
     "text": [
      "None\n"
     ]
    }
   ],
   "source": [
    "size = table.find('td', string=re.compile(\"(L|l)arge\"))#or \"(S|s)mall\"or \"(m|M)edium\"))\n",
    "print(size)"
   ]
  },
  {
   "cell_type": "code",
   "execution_count": 309,
   "id": "01b84934",
   "metadata": {},
   "outputs": [
    {
     "data": {
      "text/plain": [
       "'5-10 puppies'"
      ]
     },
     "execution_count": 309,
     "metadata": {},
     "output_type": "execute_result"
    }
   ],
   "source": [
    "litter_size=table.find('td', string=re.compile( 'puppies')).text.strip()\n",
    "litter_size"
   ]
  },
  {
   "cell_type": "code",
   "execution_count": 232,
   "id": "a14d78b4",
   "metadata": {},
   "outputs": [
    {
     "data": {
      "text/plain": [
       "'Average $800 - $1500 USD'"
      ]
     },
     "execution_count": 232,
     "metadata": {},
     "output_type": "execute_result"
    }
   ],
   "source": [
    "import re\n",
    "puppy_price= table.find('p', string= re.compile('Average')).get_text().strip()\n",
    "puppy_price"
   ]
  },
  {
   "cell_type": "code",
   "execution_count": 266,
   "id": "f6e9d7a1",
   "metadata": {},
   "outputs": [],
   "source": [
    "#price_description= table.find('p', class_='price').text \n",
    "#price_description"
   ]
  },
  {
   "cell_type": "code",
   "execution_count": 243,
   "id": "9a464cea",
   "metadata": {},
   "outputs": [
    {
     "data": {
      "text/plain": [
       "'10-12 years'"
      ]
     },
     "execution_count": 243,
     "metadata": {},
     "output_type": "execute_result"
    }
   ],
   "source": [
    "life_span= table.find('td', string= re.compile('1')).text.strip()\n",
    "life_span"
   ]
  },
  {
   "cell_type": "code",
   "execution_count": 251,
   "id": "a915b76b",
   "metadata": {},
   "outputs": [
    {
     "data": {
      "text/plain": [
       "'Purebred'"
      ]
     },
     "execution_count": 251,
     "metadata": {},
     "output_type": "execute_result"
    }
   ],
   "source": [
    "Type= table.find('td', string= re.compile('red')).text\n",
    "Type"
   ]
  },
  {
   "cell_type": "code",
   "execution_count": 333,
   "id": "1fced580",
   "metadata": {},
   "outputs": [
    {
     "data": {
      "text/plain": [
       "'Purebred'"
      ]
     },
     "execution_count": 333,
     "metadata": {},
     "output_type": "execute_result"
    }
   ],
   "source": [
    "Type= table.find('td', string= re.compile('red')).text\n",
    "Type"
   ]
  },
  {
   "cell_type": "code",
   "execution_count": 255,
   "id": "0ac3606b",
   "metadata": {},
   "outputs": [
    {
     "data": {
      "text/plain": [
       "'5 stars'"
      ]
     },
     "execution_count": 255,
     "metadata": {},
     "output_type": "execute_result"
    }
   ],
   "source": [
    "table2= sp.find('table', class_ = \"table-02\")\n",
    "intelligence_rating=table2.find('p',class_=\"star-05\").text\n",
    "intelligence_rating"
   ]
  },
  {
   "cell_type": "code",
   "execution_count": 277,
   "id": "ef0fad5b",
   "metadata": {},
   "outputs": [
    {
     "data": {
      "text/plain": [
       "'Easy Training:'"
      ]
     },
     "execution_count": 277,
     "metadata": {},
     "output_type": "execute_result"
    }
   ],
   "source": [
    "trainability= table2.find('strong',string=re.compile('(T|t)raining')).text\n",
    "trainability"
   ]
  },
  {
   "cell_type": "code",
   "execution_count": 311,
   "id": "a3b4075b",
   "metadata": {},
   "outputs": [
    {
     "name": "stdout",
     "output_type": "stream",
     "text": [
      "{'breed': 'Labrador Retriever', 'origin': 'Canada\\n United States', 'breedgroup': 'Sporting', 'size': 'Large', 'litter_size': '5-10 puppies', 'puppy_price': 'Average $800 - $1500 USD', 'life_span': '10-12 years', 'breed_type': 'Purebred', 'intelligence_rating': '5 stars', 'trainability': 'Easy Training:'}\n"
     ]
    }
   ],
   "source": [
    "#creating a dictionary for all information gathered\n",
    "dogs={\n",
    "    'breed': dog_name,\n",
    "    'origin': origin,\n",
    "    #'breedgroup': breedgroup,\n",
    "    'size' : size,\n",
    "    'litter_size': litter_size,\n",
    "    'puppy_price': puppy_price,\n",
    "    'life_span': life_span,\n",
    "    'breed_type': Type,\n",
    "    'intelligence_rating': intelligence_rating,\n",
    "    'trainability': trainability\n",
    "}\n",
    "\n",
    "\n",
    "print(dogs)"
   ]
  },
  {
   "cell_type": "code",
   "execution_count": 346,
   "id": "a7303e25",
   "metadata": {},
   "outputs": [
    {
     "ename": "AttributeError",
     "evalue": "'NoneType' object has no attribute 'text'",
     "output_type": "error",
     "traceback": [
      "\u001b[1;31m---------------------------------------------------------------------------\u001b[0m",
      "\u001b[1;31mAttributeError\u001b[0m                            Traceback (most recent call last)",
      "\u001b[1;32m~\\AppData\\Local\\Temp/ipykernel_9436/3285354700.py\u001b[0m in \u001b[0;36m<module>\u001b[1;34m\u001b[0m\n\u001b[0;32m     15\u001b[0m     \u001b[0mType\u001b[0m\u001b[1;33m=\u001b[0m \u001b[0mtable\u001b[0m\u001b[1;33m.\u001b[0m\u001b[0mfind\u001b[0m\u001b[1;33m(\u001b[0m\u001b[1;34m'td'\u001b[0m\u001b[1;33m,\u001b[0m \u001b[0mstring\u001b[0m\u001b[1;33m=\u001b[0m \u001b[0mre\u001b[0m\u001b[1;33m.\u001b[0m\u001b[0mcompile\u001b[0m\u001b[1;33m(\u001b[0m\u001b[1;34m'red'\u001b[0m\u001b[1;33m)\u001b[0m\u001b[1;33m)\u001b[0m\u001b[1;33m.\u001b[0m\u001b[0mtext\u001b[0m\u001b[1;33m\u001b[0m\u001b[1;33m\u001b[0m\u001b[0m\n\u001b[0;32m     16\u001b[0m     \u001b[0mintelligence_rating\u001b[0m\u001b[1;33m=\u001b[0m\u001b[0mtable2\u001b[0m\u001b[1;33m.\u001b[0m\u001b[0mfind\u001b[0m\u001b[1;33m(\u001b[0m\u001b[1;34m'p'\u001b[0m\u001b[1;33m,\u001b[0m\u001b[0mclass_\u001b[0m\u001b[1;33m=\u001b[0m\u001b[1;34m\"star-05\"\u001b[0m\u001b[1;33m)\u001b[0m\u001b[1;33m.\u001b[0m\u001b[0mtext\u001b[0m\u001b[1;33m\u001b[0m\u001b[1;33m\u001b[0m\u001b[0m\n\u001b[1;32m---> 17\u001b[1;33m     \u001b[0mtrainability\u001b[0m\u001b[1;33m=\u001b[0m \u001b[0mtable2\u001b[0m\u001b[1;33m.\u001b[0m\u001b[0mfind\u001b[0m\u001b[1;33m(\u001b[0m\u001b[1;34m'strong'\u001b[0m\u001b[1;33m,\u001b[0m\u001b[0mstring\u001b[0m\u001b[1;33m=\u001b[0m\u001b[0mre\u001b[0m\u001b[1;33m.\u001b[0m\u001b[0mcompile\u001b[0m\u001b[1;33m(\u001b[0m\u001b[1;34m'(T|t)raining'\u001b[0m\u001b[1;33m)\u001b[0m\u001b[1;33m)\u001b[0m\u001b[1;33m.\u001b[0m\u001b[0mtext\u001b[0m\u001b[1;33m\u001b[0m\u001b[1;33m\u001b[0m\u001b[0m\n\u001b[0m\u001b[0;32m     18\u001b[0m \u001b[1;33m\u001b[0m\u001b[0m\n\u001b[0;32m     19\u001b[0m     dogs={\n",
      "\u001b[1;31mAttributeError\u001b[0m: 'NoneType' object has no attribute 'text'"
     ]
    }
   ],
   "source": [
    "dog_list=[]\n",
    "for link in doglinks:\n",
    "    r= requests.get(link,headers=headers)\n",
    "    sp= BeautifulSoup(r.content, \"html.parser\")\n",
    "    table = sp.find('table', class_ = \"table-01\")\n",
    "    table2= sp.find('table', class_ = \"table-02\")\n",
    "   \n",
    "    dog_name= table.find('strong').text.strip()\n",
    "    origin=table.find('td', class_= 'flag').text.strip()\n",
    "    #breedgroup= table.find('a', href= True).text\n",
    "    #size = table.find('td', text=re.compile('(L|l)arge')).get_text()\n",
    "    litter_size=table.find('td', string=re.compile( 'puppies')).text.strip()\n",
    "    puppy_price= table.find('p', string= re.compile('Average')).get_text().strip()\n",
    "    life_span= table.find('td', string= re.compile('1')).text.strip()\n",
    "    Type= table.find('td', string= re.compile('red')).text\n",
    "    intelligence_rating=table2.find('p',class_=\"star-05\").text\n",
    "    trainability= table2.find('strong',string=re.compile('(T|t)raining')).text\n",
    "    \n",
    "    dogs={\n",
    "    'breed': dog_name,\n",
    "    'origin': origin,\n",
    "    'breedgroup': breedgroup,\n",
    "    'size' : size,\n",
    "    'litter_size': litter_size,\n",
    "    'puppy_price': puppy_price,\n",
    "    'life_span': life_span,\n",
    "    'breed_type': Type,\n",
    "    'intelligence_rating': intelligence_rating,\n",
    "    'trainability': trainability\n",
    "    }\n",
    "    \n",
    "    dog_list.append(dogs)\n",
    "    \n",
    "    \n",
    "    \n",
    "    "
   ]
  },
  {
   "cell_type": "code",
   "execution_count": null,
   "id": "5f6fca53",
   "metadata": {},
   "outputs": [],
   "source": [
    "for link in doglinks:\n",
    "    r= requests.get(link,headers=headers)\n",
    "    sp= BeautifulSoup(r.content, \"html.parser\")\n",
    "    table = sp.find('table', class_ = \"table-01\")\n",
    "    table2= sp.find('table', class_ = \"table-02\")\n",
    "   \n",
    "    dog_name= table.find('strong').text.strip()\n",
    "    origin=table.find('td', class_= 'flag').text.strip()\n",
    "    litter_size=table.find('td', string=re.compile( 'puppies')).text.strip()\n",
    "    puppy_price= table.find('p', string= re.compile('Average')).get_text().strip()\n",
    "    life_span= table.find('td', string= re.compile('1')).text.strip()\n",
    "    Type= table.find('td', string= re.compile('red')).text\n",
    "    #intelligence_rating=table2.find('p',class_=\"star-05\").text\n",
    "    try:\n",
    "        breedgroup= table.find('a', href= True).text\n",
    "    except:\n",
    "        breedgroup= 'not specified'\n",
    "    #size = table.find('td', text=re.compile('(L|l)arge')).get_text()\n",
    "    \n",
    "    #trainability= table2.find('strong',string=re.compile('(T|t)raining')).text\n",
    "    \n",
    "    dogs={\n",
    "    'breed': dog_name,\n",
    "    'origin': origin,\n",
    "    'breedgroup': breedgroup,\n",
    "    'size' : size,\n",
    "    'litter_size': litter_size,\n",
    "    'puppy_price': puppy_price,\n",
    "    'life_span': life_span,\n",
    "    'breed_type': Type,\n",
    "    'intelligence_rating': intelligence_rating,\n",
    "    'trainability': trainability\n",
    "    }\n",
    "    \n",
    "    dog_list.append(dogs)"
   ]
  },
  {
   "cell_type": "code",
   "execution_count": null,
   "id": "b825674d",
   "metadata": {},
   "outputs": [],
   "source": []
  }
 ],
 "metadata": {
  "kernelspec": {
   "display_name": "Python 3 (ipykernel)",
   "language": "python",
   "name": "python3"
  },
  "language_info": {
   "codemirror_mode": {
    "name": "ipython",
    "version": 3
   },
   "file_extension": ".py",
   "mimetype": "text/x-python",
   "name": "python",
   "nbconvert_exporter": "python",
   "pygments_lexer": "ipython3",
   "version": "3.8.5"
  }
 },
 "nbformat": 4,
 "nbformat_minor": 5
}
